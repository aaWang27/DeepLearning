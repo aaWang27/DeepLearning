{
 "cells": [
  {
   "cell_type": "code",
   "execution_count": 1,
   "id": "82607f94",
   "metadata": {},
   "outputs": [],
   "source": [
    "import math"
   ]
  },
  {
   "cell_type": "code",
   "execution_count": 2,
   "id": "76211514",
   "metadata": {},
   "outputs": [],
   "source": [
    "def sigmoid(z):\n",
    "    return 1/(1+math.exp(-z))"
   ]
  },
  {
   "cell_type": "code",
   "execution_count": 3,
   "id": "e31861b3",
   "metadata": {},
   "outputs": [
    {
     "data": {
      "text/plain": [
       "0.5"
      ]
     },
     "execution_count": 3,
     "metadata": {},
     "output_type": "execute_result"
    }
   ],
   "source": [
    "sigmoid(0)"
   ]
  },
  {
   "cell_type": "code",
   "execution_count": 4,
   "id": "bfaa7a3f",
   "metadata": {},
   "outputs": [
    {
     "data": {
      "text/plain": [
       "0.7310585786300049"
      ]
     },
     "execution_count": 4,
     "metadata": {},
     "output_type": "execute_result"
    }
   ],
   "source": [
    "sigmoid(1)"
   ]
  },
  {
   "cell_type": "code",
   "execution_count": 5,
   "id": "bbbd748d",
   "metadata": {},
   "outputs": [
    {
     "data": {
      "text/plain": [
       "0.0066928509242848554"
      ]
     },
     "execution_count": 5,
     "metadata": {},
     "output_type": "execute_result"
    }
   ],
   "source": [
    "sigmoid(-5)"
   ]
  },
  {
   "cell_type": "code",
   "execution_count": 10,
   "id": "25c64d16",
   "metadata": {},
   "outputs": [],
   "source": [
    "def tanh(z):\n",
    "    return (math.exp(z)-math.exp(-z))/(math.exp(z)+math.exp(-z))"
   ]
  },
  {
   "cell_type": "code",
   "execution_count": 11,
   "id": "5f5e158d",
   "metadata": {},
   "outputs": [
    {
     "data": {
      "text/plain": [
       "0.0"
      ]
     },
     "execution_count": 11,
     "metadata": {},
     "output_type": "execute_result"
    }
   ],
   "source": [
    "tanh(0)"
   ]
  },
  {
   "cell_type": "code",
   "execution_count": 12,
   "id": "7410b08f",
   "metadata": {},
   "outputs": [
    {
     "data": {
      "text/plain": [
       "-0.7615941559557649"
      ]
     },
     "execution_count": 12,
     "metadata": {},
     "output_type": "execute_result"
    }
   ],
   "source": [
    "tanh(-1)"
   ]
  },
  {
   "cell_type": "code",
   "execution_count": 13,
   "id": "efcfb2bf",
   "metadata": {},
   "outputs": [
    {
     "data": {
      "text/plain": [
       "0.9999999958776926"
      ]
     },
     "execution_count": 13,
     "metadata": {},
     "output_type": "execute_result"
    }
   ],
   "source": [
    "tanh(10)"
   ]
  },
  {
   "cell_type": "code",
   "execution_count": 14,
   "id": "8319ed42",
   "metadata": {},
   "outputs": [
    {
     "data": {
      "text/plain": [
       "-1.0"
      ]
     },
     "execution_count": 14,
     "metadata": {},
     "output_type": "execute_result"
    }
   ],
   "source": [
    "tanh(-56)"
   ]
  },
  {
   "cell_type": "code",
   "execution_count": 17,
   "id": "95767be7",
   "metadata": {},
   "outputs": [],
   "source": [
    "def relu(z):\n",
    "    return max(0, z)"
   ]
  },
  {
   "cell_type": "code",
   "execution_count": 18,
   "id": "3aec039a",
   "metadata": {},
   "outputs": [
    {
     "data": {
      "text/plain": [
       "0"
      ]
     },
     "execution_count": 18,
     "metadata": {},
     "output_type": "execute_result"
    }
   ],
   "source": [
    "relu(-5)"
   ]
  },
  {
   "cell_type": "code",
   "execution_count": 19,
   "id": "0fccd3d9",
   "metadata": {},
   "outputs": [
    {
     "data": {
      "text/plain": [
       "6"
      ]
     },
     "execution_count": 19,
     "metadata": {},
     "output_type": "execute_result"
    }
   ],
   "source": [
    "relu(6)"
   ]
  },
  {
   "cell_type": "code",
   "execution_count": 20,
   "id": "9cf1ad07",
   "metadata": {},
   "outputs": [],
   "source": [
    "def leaky_relu(z):\n",
    "    return max(0.1*z, z)"
   ]
  },
  {
   "cell_type": "code",
   "execution_count": 21,
   "id": "2ab02dca",
   "metadata": {},
   "outputs": [
    {
     "data": {
      "text/plain": [
       "50"
      ]
     },
     "execution_count": 21,
     "metadata": {},
     "output_type": "execute_result"
    }
   ],
   "source": [
    "leaky_relu(50)"
   ]
  },
  {
   "cell_type": "code",
   "execution_count": 22,
   "id": "609aaa93",
   "metadata": {},
   "outputs": [
    {
     "data": {
      "text/plain": [
       "-7.6000000000000005"
      ]
     },
     "execution_count": 22,
     "metadata": {},
     "output_type": "execute_result"
    }
   ],
   "source": [
    "leaky_relu(-76)"
   ]
  }
 ],
 "metadata": {
  "kernelspec": {
   "display_name": "Python 3",
   "language": "python",
   "name": "python3"
  },
  "language_info": {
   "codemirror_mode": {
    "name": "ipython",
    "version": 3
   },
   "file_extension": ".py",
   "mimetype": "text/x-python",
   "name": "python",
   "nbconvert_exporter": "python",
   "pygments_lexer": "ipython3",
   "version": "3.8.8"
  }
 },
 "nbformat": 4,
 "nbformat_minor": 5
}
